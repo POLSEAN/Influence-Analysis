{
  "cells": [
    {
      "cell_type": "markdown",
      "metadata": {
        "id": "view-in-github",
        "colab_type": "text"
      },
      "source": [
        "<a href=\"https://colab.research.google.com/github/POLSEAN/Influence-Analysis/blob/main/labs/day_7/ESS24_07_01_double_selection.ipynb\" target=\"_parent\"><img src=\"https://colab.research.google.com/assets/colab-badge.svg\" alt=\"Open In Colab\"/></a>"
      ]
    },
    {
      "cell_type": "markdown",
      "metadata": {
        "id": "VMh_ELNFYxOU"
      },
      "source": [
        "# **Post-Double selection**"
      ]
    },
    {
      "cell_type": "code",
      "execution_count": 1,
      "metadata": {
        "colab": {
          "base_uri": "https://localhost:8080/"
        },
        "id": "C_mDOuhvYmrV",
        "outputId": "0959b74a-7e71-423c-e5fa-c2989949e3b6"
      },
      "outputs": [
        {
          "output_type": "stream",
          "name": "stderr",
          "text": [
            "Installing packages into ‘/usr/local/lib/R/site-library’\n",
            "(as ‘lib’ is unspecified)\n",
            "\n",
            "also installing the dependencies ‘cowplot’, ‘Deriv’, ‘microbenchmark’, ‘numDeriv’, ‘doBy’, ‘SparseM’, ‘MatrixModels’, ‘minqa’, ‘nloptr’, ‘iterators’, ‘carData’, ‘abind’, ‘pbkrtest’, ‘quantreg’, ‘lme4’, ‘zoo’, ‘foreach’, ‘shape’, ‘car’, ‘Formula’, ‘lmtest’, ‘RcppEigen’, ‘glmnet’, ‘checkmate’\n",
            "\n",
            "\n",
            "── \u001b[1mAttaching core tidyverse packages\u001b[22m ──────────────────────── tidyverse 2.0.0 ──\n",
            "\u001b[32m✔\u001b[39m \u001b[34mdplyr    \u001b[39m 1.1.4     \u001b[32m✔\u001b[39m \u001b[34mreadr    \u001b[39m 2.1.5\n",
            "\u001b[32m✔\u001b[39m \u001b[34mforcats  \u001b[39m 1.0.0     \u001b[32m✔\u001b[39m \u001b[34mstringr  \u001b[39m 1.5.1\n",
            "\u001b[32m✔\u001b[39m \u001b[34mggplot2  \u001b[39m 3.5.1     \u001b[32m✔\u001b[39m \u001b[34mtibble   \u001b[39m 3.2.1\n",
            "\u001b[32m✔\u001b[39m \u001b[34mlubridate\u001b[39m 1.9.3     \u001b[32m✔\u001b[39m \u001b[34mtidyr    \u001b[39m 1.3.1\n",
            "\u001b[32m✔\u001b[39m \u001b[34mpurrr    \u001b[39m 1.0.2     \n",
            "── \u001b[1mConflicts\u001b[22m ────────────────────────────────────────── tidyverse_conflicts() ──\n",
            "\u001b[31m✖\u001b[39m \u001b[34mdplyr\u001b[39m::\u001b[32mfilter()\u001b[39m masks \u001b[34mstats\u001b[39m::filter()\n",
            "\u001b[31m✖\u001b[39m \u001b[34mdplyr\u001b[39m::\u001b[32mlag()\u001b[39m    masks \u001b[34mstats\u001b[39m::lag()\n",
            "\u001b[36mℹ\u001b[39m Use the conflicted package (\u001b[3m\u001b[34m<http://conflicted.r-lib.org/>\u001b[39m\u001b[23m) to force all conflicts to become errors\n"
          ]
        }
      ],
      "source": [
        "# Install packages\n",
        "list.of.packages <- c(\"ivreg\", \"tidyverse\", \"dplyr\",\"estimatr\",\"base\",\"hdm\",\"naivereg\")\n",
        "new.packages <- list.of.packages[!(list.of.packages %in% installed.packages()[,\"Package\"])]\n",
        "if(length(new.packages)) install.packages(new.packages, repos = \"http://cran.us.r-project.org\")\n",
        "\n",
        "# Load the packages\n",
        "library(ivreg)\n",
        "library(tidyverse)\n",
        "library(estimatr)\n",
        "library(base)\n",
        "library(hdm)\n",
        "library(naivereg)"
      ]
    },
    {
      "cell_type": "markdown",
      "metadata": {
        "id": "lYxMaqmOei7H"
      },
      "source": [
        "## **The Data**\n",
        "\n",
        "We use data from the U.S. National Longitudinal Survey of Young Men (NLSYM) in 1976, where some variables dating back to earlier years. This dataset is provided in the `ivreg` package as `SchoolingReturns`.\n",
        "\n",
        "This data set was originally used by David Card to study the effect of schooling on earnings in a classical models for wage determination. It was subsequently employed to illustrate 2SLS estimation in introductory econometrics textbooks.\n",
        "\n",
        "\n",
        "*Variables*\n",
        "```\n",
        "wage: Raw wages in 1976 (in cents per hour).\n",
        "education: Education in 1976 (in years).\n",
        "experience: Years of labor market experience, computed as age - education - 6.\n",
        "ethnicity: Factor indicating ethnicity. Is the individual African-American (\"afam\") or not (\"other\")?\n",
        "smsa: Factor. Does the individual reside in a SMSA (standard metropolitan statistical area) in 1976?\n",
        "south: Factor. Does the individual reside in the South in 1976?\n",
        "age: Age in 1976 (in years).\n",
        "nearcollege: Factor. Did the individual grow up near a 4-year college?\n",
        "nearcollege2: Factor. Did the individual grow up near a 2-year college?\n",
        "nearcollege4: Factor. Did the individual grow up near a 4-year public or private college?\n",
        "enrolled: Factor. Is the individual enrolled in college in 1976?\n",
        "married: factor. Is the individual married in 1976?\n",
        "education66: Education in 1966 (in years).\n",
        "smsa66: Factor. Does the individual reside in a SMSA in 1966?\n",
        "south66: Factor. Does the individual reside in the South in 1966?\n",
        "feducation: Father's educational attainment (in years). Imputed with average if missing.\n",
        "meducation: Mother's educational attainment (in years). Imputed with average if missing.\n",
        "fameducation: Ordered factor coding family education class (from 1 to 9).\n",
        "kww: Knowledge world of work (KWW) score.\n",
        "iq: Normed intelligence quotient (IQ) score\n",
        "parents14: Factor coding living with parents at age 14: both parents, single mother, step parent, other\n",
        "library14: Factor. Was there a library card in home at age 14?\n",
        "\n",
        "```"
      ]
    },
    {
      "cell_type": "code",
      "execution_count": 12,
      "metadata": {
        "colab": {
          "base_uri": "https://localhost:8080/",
          "height": 34
        },
        "collapsed": true,
        "id": "kem-hl07ZGHm",
        "outputId": "fca78378-6e2e-435e-de18-db540a109b11"
      },
      "outputs": [
        {
          "output_type": "display_data",
          "data": {
            "text/html": [
              "<style>\n",
              ".list-inline {list-style: none; margin:0; padding: 0}\n",
              ".list-inline>li {display: inline-block}\n",
              ".list-inline>li:not(:last-child)::after {content: \"\\00b7\"; padding: 0 .5ex}\n",
              "</style>\n",
              "<ol class=list-inline><li>'wage'</li><li>'education'</li><li>'experience'</li><li>'ethnicity'</li><li>'smsa'</li><li>'south'</li><li>'age'</li><li>'nearcollege'</li><li>'nearcollege2'</li><li>'nearcollege4'</li><li>'enrolled'</li><li>'married'</li><li>'education66'</li><li>'smsa66'</li><li>'south66'</li><li>'feducation'</li><li>'meducation'</li><li>'fameducation'</li><li>'kww'</li><li>'iq'</li><li>'parents14'</li><li>'library14'</li></ol>\n"
            ],
            "text/markdown": "1. 'wage'\n2. 'education'\n3. 'experience'\n4. 'ethnicity'\n5. 'smsa'\n6. 'south'\n7. 'age'\n8. 'nearcollege'\n9. 'nearcollege2'\n10. 'nearcollege4'\n11. 'enrolled'\n12. 'married'\n13. 'education66'\n14. 'smsa66'\n15. 'south66'\n16. 'feducation'\n17. 'meducation'\n18. 'fameducation'\n19. 'kww'\n20. 'iq'\n21. 'parents14'\n22. 'library14'\n\n\n",
            "text/latex": "\\begin{enumerate*}\n\\item 'wage'\n\\item 'education'\n\\item 'experience'\n\\item 'ethnicity'\n\\item 'smsa'\n\\item 'south'\n\\item 'age'\n\\item 'nearcollege'\n\\item 'nearcollege2'\n\\item 'nearcollege4'\n\\item 'enrolled'\n\\item 'married'\n\\item 'education66'\n\\item 'smsa66'\n\\item 'south66'\n\\item 'feducation'\n\\item 'meducation'\n\\item 'fameducation'\n\\item 'kww'\n\\item 'iq'\n\\item 'parents14'\n\\item 'library14'\n\\end{enumerate*}\n",
            "text/plain": [
              " [1] \"wage\"         \"education\"    \"experience\"   \"ethnicity\"    \"smsa\"        \n",
              " [6] \"south\"        \"age\"          \"nearcollege\"  \"nearcollege2\" \"nearcollege4\"\n",
              "[11] \"enrolled\"     \"married\"      \"education66\"  \"smsa66\"       \"south66\"     \n",
              "[16] \"feducation\"   \"meducation\"   \"fameducation\" \"kww\"          \"iq\"          \n",
              "[21] \"parents14\"    \"library14\"   "
            ]
          },
          "metadata": {}
        }
      ],
      "source": [
        "# Load the data available in `ivreg' package\n",
        "data(\"SchoolingReturns\", package = \"ivreg\")\n",
        "#summary(SchoolingReturns)\n",
        "colnames(SchoolingReturns)"
      ]
    },
    {
      "cell_type": "markdown",
      "metadata": {
        "id": "yq4DGmfnikP6"
      },
      "source": [
        "### **Data description**"
      ]
    },
    {
      "cell_type": "code",
      "execution_count": null,
      "metadata": {
        "colab": {
          "base_uri": "https://localhost:8080/",
          "height": 909
        },
        "id": "6nKOQW5Ih5bz",
        "outputId": "c5577382-8b36-4f92-fdbb-66a9bcc028f4",
        "collapsed": true
      },
      "outputs": [
        {
          "data": {
            "text/plain": [
              "\n",
              "  no  yes \n",
              " 957 2053 "
            ]
          },
          "metadata": {},
          "output_type": "display_data"
        },
        {
          "data": {
            "image/png": "[encoded data removed]",
            "text/plain": [
              "plot without title"
            ]
          },
          "metadata": {
            "image/png": {
              "height": 420,
              "width": 420
            }
          },
          "output_type": "display_data"
        },
        {
          "data": {
            "image/png": "[encoded data removed]",
            "text/plain": [
              "plot without title"
            ]
          },
          "metadata": {
            "image/png": {
              "height": 420,
              "width": 420
            }
          },
          "output_type": "display_data"
        }
      ],
      "source": [
        "# Tabulate nearcollege\n",
        "table(SchoolingReturns$nearcollege)\n",
        "\n",
        "# Distance from school\n",
        "hist = ggplot(SchoolingReturns, aes(x = nearcollege, fill = factor(nearcollege))) + geom_bar()\n",
        "hist\n",
        "\n",
        "# Densities by proximity to colleage\n",
        "dens = ggplot(SchoolingReturns, aes(x = wage, color = factor(nearcollege), fill = factor(nearcollege)) )  +\n",
        "                    geom_density() + facet_wrap(.~nearcollege)\n",
        "dens\n"
      ]
    },
    {
      "cell_type": "markdown",
      "metadata": {
        "id": "NCOV_hZPee_d"
      },
      "source": [
        "###**The Code**"
      ]
    },
    {
      "cell_type": "code",
      "source": [
        "## Naive OLS with all variables\n",
        "ols = lm_robust(log(wage) ~ education + (poly(experience, 2) + ethnicity + smsa + south)^3, data = SchoolingReturns)\n",
        "coef.ols = summary(ols)$coefficients[2]\n",
        "coef.ols"
      ],
      "metadata": {
        "colab": {
          "base_uri": "https://localhost:8080/",
          "height": 34
        },
        "id": "uMdQjk2L2uZi",
        "outputId": "efafe7db-d41b-4b32-906c-ae482584bc9d"
      },
      "execution_count": null,
      "outputs": [
        {
          "output_type": "display_data",
          "data": {
            "text/html": [
              "0.0731174943877527"
            ],
            "text/markdown": "0.0731174943877527",
            "text/latex": "0.0731174943877527",
            "text/plain": [
              "[1] 0.07311749"
            ]
          },
          "metadata": {}
        }
      ]
    },
    {
      "cell_type": "markdown",
      "metadata": {
        "id": "KgsrYu5gZaCA"
      },
      "source": [
        "###**Hand-coded Double Selection**"
      ]
    },
    {
      "cell_type": "code",
      "execution_count": 11,
      "metadata": {
        "id": "1O0diZkKZO-F"
      },
      "outputs": [],
      "source": [
        "# Outcome\n",
        "Y = log(SchoolingReturns$wage)\n",
        "# Treatment\n",
        "D = SchoolingReturns$education\n",
        "# Create main effects matrix\n",
        "X = model.matrix(~ 0 + (poly(experience, 2) + ethnicity + smsa + south)^3, data = SchoolingReturns)"
      ]
    },
    {
      "cell_type": "code",
      "execution_count": null,
      "metadata": {
        "colab": {
          "base_uri": "https://localhost:8080/",
          "height": 1000
        },
        "id": "eyNr729fZXNr",
        "outputId": "cc4cf700-32ec-474d-b8a1-2d97e2a8049d",
        "collapsed": true
      },
      "outputs": [
        {
          "output_type": "display_data",
          "data": {
            "text/html": [
              "<style>\n",
              ".dl-inline {width: auto; margin:0; padding: 0}\n",
              ".dl-inline>dt, .dl-inline>dd {float: none; width: auto; display: inline-block}\n",
              ".dl-inline>dt::after {content: \":\\0020\"; padding-right: .5ex}\n",
              ".dl-inline>dt:not(:first-of-type) {padding-left: .5ex}\n",
              "</style><dl class=dl-inline><dt>poly(experience, 2)1</dt><dd>1</dd><dt>poly(experience, 2)2</dt><dd>2</dd><dt>ethnicityother</dt><dd>3</dd><dt>ethnicityafam</dt><dd>4</dd><dt>smsayes</dt><dd>5</dd><dt>southyes</dt><dd>6</dd><dt>poly(experience, 2)1:smsayes</dt><dd>9</dd><dt>poly(experience, 2)2:smsayes</dt><dd>10</dd><dt>ethnicityafam:southyes</dt><dd>14</dd><dt>poly(experience, 2)1:ethnicityafam:southyes</dt><dd>18</dd></dl>\n"
            ],
            "text/markdown": "poly(experience, 2)1\n:   1poly(experience, 2)2\n:   2ethnicityother\n:   3ethnicityafam\n:   4smsayes\n:   5southyes\n:   6poly(experience, 2)1:smsayes\n:   9poly(experience, 2)2:smsayes\n:   10ethnicityafam:southyes\n:   14poly(experience, 2)1:ethnicityafam:southyes\n:   18\n\n",
            "text/latex": "\\begin{description*}\n\\item[poly(experience, 2)1] 1\n\\item[poly(experience, 2)2] 2\n\\item[ethnicityother] 3\n\\item[ethnicityafam] 4\n\\item[smsayes] 5\n\\item[southyes] 6\n\\item[poly(experience, 2)1:smsayes] 9\n\\item[poly(experience, 2)2:smsayes] 10\n\\item[ethnicityafam:southyes] 14\n\\item[poly(experience, 2)1:ethnicityafam:southyes] 18\n\\end{description*}\n",
            "text/plain": [
              "                       poly(experience, 2)1 \n",
              "                                          1 \n",
              "                       poly(experience, 2)2 \n",
              "                                          2 \n",
              "                             ethnicityother \n",
              "                                          3 \n",
              "                              ethnicityafam \n",
              "                                          4 \n",
              "                                    smsayes \n",
              "                                          5 \n",
              "                                   southyes \n",
              "                                          6 \n",
              "               poly(experience, 2)1:smsayes \n",
              "                                          9 \n",
              "               poly(experience, 2)2:smsayes \n",
              "                                         10 \n",
              "                     ethnicityafam:southyes \n",
              "                                         14 \n",
              "poly(experience, 2)1:ethnicityafam:southyes \n",
              "                                         18 "
            ]
          },
          "metadata": {}
        },
        {
          "output_type": "display_data",
          "data": {
            "text/html": [
              "<style>\n",
              ".dl-inline {width: auto; margin:0; padding: 0}\n",
              ".dl-inline>dt, .dl-inline>dd {float: none; width: auto; display: inline-block}\n",
              ".dl-inline>dt::after {content: \":\\0020\"; padding-right: .5ex}\n",
              ".dl-inline>dt:not(:first-of-type) {padding-left: .5ex}\n",
              "</style><dl class=dl-inline><dt>poly(experience, 2)1</dt><dd>1</dd><dt>ethnicityother</dt><dd>3</dd><dt>smsayes</dt><dd>5</dd><dt>southyes</dt><dd>6</dd><dt>poly(experience, 2)1:southyes</dt><dd>11</dd><dt>poly(experience, 2)2:ethnicityafam:smsayes</dt><dd>17</dd><dt>poly(experience, 2)1:ethnicityafam:southyes</dt><dd>18</dd></dl>\n"
            ],
            "text/markdown": "poly(experience, 2)1\n:   1ethnicityother\n:   3smsayes\n:   5southyes\n:   6poly(experience, 2)1:southyes\n:   11poly(experience, 2)2:ethnicityafam:smsayes\n:   17poly(experience, 2)1:ethnicityafam:southyes\n:   18\n\n",
            "text/latex": "\\begin{description*}\n\\item[poly(experience, 2)1] 1\n\\item[ethnicityother] 3\n\\item[smsayes] 5\n\\item[southyes] 6\n\\item[poly(experience, 2)1:southyes] 11\n\\item[poly(experience, 2)2:ethnicityafam:smsayes] 17\n\\item[poly(experience, 2)1:ethnicityafam:southyes] 18\n\\end{description*}\n",
            "text/plain": [
              "                       poly(experience, 2)1 \n",
              "                                          1 \n",
              "                             ethnicityother \n",
              "                                          3 \n",
              "                                    smsayes \n",
              "                                          5 \n",
              "                                   southyes \n",
              "                                          6 \n",
              "              poly(experience, 2)1:southyes \n",
              "                                         11 \n",
              " poly(experience, 2)2:ethnicityafam:smsayes \n",
              "                                         17 \n",
              "poly(experience, 2)1:ethnicityafam:southyes \n",
              "                                         18 "
            ]
          },
          "metadata": {}
        },
        {
          "output_type": "stream",
          "name": "stderr",
          "text": [
            "1 coefficient  not defined because the design matrix is rank deficient\n",
            "\n",
            "\n"
          ]
        },
        {
          "output_type": "display_data",
          "data": {
            "text/plain": [
              "\n",
              "Call:\n",
              "lm_robust(formula = Y ~ D + X_sel_union_)\n",
              "\n",
              "Standard error type:  HC2 \n",
              "\n",
              "Coefficients: (1 not defined because the design matrix is rank deficient)\n",
              "                                                        Estimate Std. Error\n",
              "(Intercept)                                              5.27853   0.051288\n",
              "D                                                        0.07276   0.003666\n",
              "X_sel_union_poly(experience, 2)1                         9.76745   0.823789\n",
              "X_sel_union_poly(experience, 2)2                        -1.24171   0.551326\n",
              "X_sel_union_ethnicityother                                    NA         NA\n",
              "X_sel_union_ethnicityafam                               -0.11692   0.028356\n",
              "X_sel_union_smsayes                                      0.15101   0.015253\n",
              "X_sel_union_southyes                                    -0.10123   0.017193\n",
              "X_sel_union_poly(experience, 2)1:smsayes                 0.15236   0.783627\n",
              "X_sel_union_poly(experience, 2)2:smsayes                -1.67568   0.807933\n",
              "X_sel_union_poly(experience, 2)1:southyes               -1.05147   0.911888\n",
              "X_sel_union_ethnicityafam:southyes                      -0.09704   0.035674\n",
              "X_sel_union_poly(experience, 2)2:ethnicityafam:smsayes   1.37107   1.208983\n",
              "X_sel_union_poly(experience, 2)1:ethnicityafam:southyes -4.09561   1.135434\n",
              "                                                         t value  Pr(>|t|)\n",
              "(Intercept)                                             102.9192 0.000e+00\n",
              "D                                                        19.8472 1.846e-82\n",
              "X_sel_union_poly(experience, 2)1                         11.8567 1.005e-31\n",
              "X_sel_union_poly(experience, 2)2                         -2.2522 2.438e-02\n",
              "X_sel_union_ethnicityother                                    NA        NA\n",
              "X_sel_union_ethnicityafam                                -4.1234 3.834e-05\n",
              "X_sel_union_smsayes                                       9.9005 9.218e-23\n",
              "X_sel_union_southyes                                     -5.8882 4.338e-09\n",
              "X_sel_union_poly(experience, 2)1:smsayes                  0.1944 8.459e-01\n",
              "X_sel_union_poly(experience, 2)2:smsayes                 -2.0740 3.816e-02\n",
              "X_sel_union_poly(experience, 2)1:southyes                -1.1531 2.490e-01\n",
              "X_sel_union_ethnicityafam:southyes                       -2.7203 6.560e-03\n",
              "X_sel_union_poly(experience, 2)2:ethnicityafam:smsayes    1.1341 2.569e-01\n",
              "X_sel_union_poly(experience, 2)1:ethnicityafam:southyes  -3.6071 3.147e-04\n",
              "                                                        CI Lower CI Upper   DF\n",
              "(Intercept)                                              5.17797  5.37909 2997\n",
              "D                                                        0.06557  0.07995 2997\n",
              "X_sel_union_poly(experience, 2)1                         8.15221 11.38270 2997\n",
              "X_sel_union_poly(experience, 2)2                        -2.32273 -0.16070 2997\n",
              "X_sel_union_ethnicityother                                    NA       NA   NA\n",
              "X_sel_union_ethnicityafam                               -0.17252 -0.06132 2997\n",
              "X_sel_union_smsayes                                      0.12110  0.18092 2997\n",
              "X_sel_union_southyes                                    -0.13495 -0.06752 2997\n",
              "X_sel_union_poly(experience, 2)1:smsayes                -1.38414  1.68886 2997\n",
              "X_sel_union_poly(experience, 2)2:smsayes                -3.25984 -0.09152 2997\n",
              "X_sel_union_poly(experience, 2)1:southyes               -2.83946  0.73652 2997\n",
              "X_sel_union_ethnicityafam:southyes                      -0.16699 -0.02710 2997\n",
              "X_sel_union_poly(experience, 2)2:ethnicityafam:smsayes  -0.99945  3.74159 2997\n",
              "X_sel_union_poly(experience, 2)1:ethnicityafam:southyes -6.32192 -1.86930 2997\n",
              "\n",
              "Multiple R-squared:  0.2993 ,\tAdjusted R-squared:  0.2965 \n",
              "F-statistic:    NA on 12 and 2997 DF,  p-value: NA"
            ]
          },
          "metadata": {}
        }
      ],
      "source": [
        "# Set seed for replicability\n",
        "set.seed(1408)\n",
        "\n",
        "# Step 1: Select variables in outcome regression\n",
        "sel_y = rlasso(X,Y, post = FALSE)\n",
        "which(sel_y$beta != 0)\n",
        "# Step 2: Select variables in treatment regression\n",
        "sel_d = rlasso(X,D, post = FALSE)\n",
        "which(sel_d$beta != 0)\n",
        "\n",
        "# Step 3: OLS regresssion of Y on D and the union of the selected variables in Steps 1&2\n",
        "X_sel_union_ = X[,sel_y$beta != 0 | sel_d$beta != 0]\n",
        "ds_hand = lm_robust(Y ~ D + X_sel_union_)\n",
        "summary(ds_hand)\n",
        "\n",
        "#ds_hand$coefficients[2]\n",
        "#ds_hand$std.error[2]"
      ]
    },
    {
      "cell_type": "markdown",
      "metadata": {
        "id": "u00UwPAUZtfE"
      },
      "source": [
        "###**Double-selection with `hdm` package**"
      ]
    },
    {
      "cell_type": "code",
      "execution_count": 78,
      "metadata": {
        "colab": {
          "base_uri": "https://localhost:8080/",
          "height": 729
        },
        "id": "XtToek15Z1ta",
        "outputId": "513884d3-b902-4185-b43d-77982202d5df"
      },
      "outputs": [
        {
          "output_type": "display_data",
          "data": {
            "text/plain": [
              "[1] \"Estimates and significance testing of the effect of target variables\"\n",
              "   Estimate. Std. Error t value Pr(>|t|)    \n",
              "d1  0.072759   0.003665   19.85   <2e-16 ***\n",
              "---\n",
              "Signif. codes:  0 ‘***’ 0.001 ‘**’ 0.01 ‘*’ 0.05 ‘.’ 0.1 ‘ ’ 1\n",
              "\n"
            ]
          },
          "metadata": {}
        },
        {
          "output_type": "stream",
          "name": "stdout",
          "text": [
            "\n",
            "[1] \"Estimated target coefficients\"\n",
            "        d1 \n",
            "0.07275877 \n",
            "\n",
            "[1] \"Matrix with selection index from auxiliary regressions\"\n",
            "\n",
            "                                            [,1]\n",
            "poly(experience, 2)1                        \"x\" \n",
            "poly(experience, 2)2                        \"x\" \n",
            "ethnicityother                              \"x\" \n",
            "ethnicityafam                               \"x\" \n",
            "smsayes                                     \"x\" \n",
            "southyes                                    \"x\" \n",
            "poly(experience, 2)1:ethnicityafam          \".\" \n",
            "poly(experience, 2)2:ethnicityafam          \".\" \n",
            "poly(experience, 2)1:smsayes                \"x\" \n",
            "poly(experience, 2)2:smsayes                \"x\" \n",
            "poly(experience, 2)1:southyes               \"x\" \n",
            "poly(experience, 2)2:southyes               \".\" \n",
            "ethnicityafam:smsayes                       \".\" \n",
            "ethnicityafam:southyes                      \"x\" \n",
            "smsayes:southyes                            \".\" \n",
            "poly(experience, 2)1:ethnicityafam:smsayes  \".\" \n",
            "poly(experience, 2)2:ethnicityafam:smsayes  \"x\" \n",
            "poly(experience, 2)1:ethnicityafam:southyes \"x\" \n",
            "poly(experience, 2)2:ethnicityafam:southyes \".\" \n",
            "poly(experience, 2)1:smsayes:southyes       \".\" \n",
            "poly(experience, 2)2:smsayes:southyes       \".\" \n",
            "ethnicityafam:smsayes:southyes              \".\" \n",
            "sum                                         \"x2\"\n",
            "_ _ _ \n",
            "[1] \"'-' indicates a target variable; \"\n",
            "[1] \"'x' indicates that a variable has been selected with rlassoEffects (coefficient is different from zero);\"\n",
            "[1] \"'.' indicates that a variable has been de-selected with rlassoEffects (coefficient is zero).\"\n"
          ]
        }
      ],
      "source": [
        "# Set seed for replicability\n",
        "set.seed(1408)\n",
        "\n",
        "# Estimate the effect using `rlassoEffect' command\n",
        "ds1= rlassoEffect(X,Y,D, method = \"double selection\",post = FALSE)\n",
        "summary(ds1)\n",
        "\n",
        "# Print selection matrix\n",
        "print_coef(ds1, selection.matrix = TRUE)\n",
        "\n",
        "# Compare point estimate as the hand-coded version:\n",
        "#answer = all.equal(as.numeric(ds1$coefficients),as.numeric(ds_hand$coefficients[2]))\n",
        "#print(paste0(\"Are the coefficients identical? \", answer))"
      ]
    },
    {
      "cell_type": "code",
      "execution_count": 15,
      "metadata": {
        "id": "CLQOuu_vb56F",
        "colab": {
          "base_uri": "https://localhost:8080/",
          "height": 121
        },
        "outputId": "9421dca3-a895-41bc-c62a-1cf01e1f804d"
      },
      "outputs": [
        {
          "output_type": "display_data",
          "data": {
            "text/plain": [
              "[1] \"Estimates and significance testing of the effect of target variables\"\n",
              "     Estimate. Std. Error t value Pr(>|t|)    \n",
              "[1,]  0.072984   0.003505   20.82   <2e-16 ***\n",
              "---\n",
              "Signif. codes:  0 ‘***’ 0.001 ‘**’ 0.01 ‘*’ 0.05 ‘.’ 0.1 ‘ ’ 1\n",
              "\n"
            ]
          },
          "metadata": {}
        }
      ],
      "source": [
        "## Double selection for partialling-out\n",
        "# Set seed for replicability\n",
        "set.seed(1408)\n",
        "\n",
        "ds2_po = rlassoEffect(X,Y,D, method = \"partialling out\",post=FALSE) #default\n",
        "summary(ds2_po)"
      ]
    },
    {
      "cell_type": "code",
      "execution_count": null,
      "metadata": {
        "colab": {
          "base_uri": "https://localhost:8080/",
          "height": 437
        },
        "id": "YVZMbXmTeIkg",
        "outputId": "844cf2af-b836-4a99-dbda-ed342bc4fe18"
      },
      "outputs": [
        {
          "output_type": "display_data",
          "data": {
            "text/plain": [
              "plot without title"
            ],
            "image/png": "[encoded data removed]"
          },
          "metadata": {
            "image/png": {
              "width": 420,
              "height": 420
            }
          }
        }
      ],
      "source": [
        "# Graphical comparison of the results\n",
        "Coefficient = c(ols$coefficients[2],ds_hand$coefficients[2],ds1$coefficients,ds2$coefficients,ds2_po$coefficients)\n",
        "se =  c(ols$std.error[2],ds_hand$std.error[2],ds1$se,ds2$se,ds2_po$se)\n",
        "data.frame(Coefficient,se,\n",
        "                Method = c(\"OLS\",\"DS-handcoded\",\"DS1\",\"DS2\",\"DS2-PO\"),\n",
        "                cil = Coefficient - 1.96*se,\n",
        "                ciu = Coefficient + 1.96*se)  %>%\n",
        "  ggplot(aes(x=Method,y=Coefficient,ymin=cil,ymax=ciu)) + geom_point(size=2.5) + geom_errorbar(width=0.15)  +\n",
        "  geom_hline(yintercept=0)"
      ]
    },
    {
      "cell_type": "markdown",
      "metadata": {
        "id": "ebBGpC4QwgTK"
      },
      "source": [
        "### **Post-Double Selection with IV**\n",
        "\n",
        "1. In `hdm` package, the function `rlassoIV` conducts *triple selection* when a instrimental variable (IV) approach is needed.\n",
        "2. In `naivereg` package, the function `DSIV` perform double-selection with IV using the procedure described in [2].\n",
        "\n",
        "\n",
        "\n",
        "**References**\n",
        "\n",
        "[1] V. Chernozhukov, C. Hansen, M. Spindler (2015). Post-selection and post-regularization inference in linear models with many controls and instruments. *American Economic Review: Paper & Proceedings*, 105(5), 486-490.\n",
        "\n",
        "[2] Zhong, W., Gao, Y., Zhou, W., & Fan, Q. (2021). Endogenous treatment effect estimation using high-dimensional instruments and double selection. *Statistics & Probability Letters*, 169, 108967."
      ]
    },
    {
      "cell_type": "markdown",
      "source": [
        "### **The Code**"
      ],
      "metadata": {
        "id": "q-QirIavaCV1"
      }
    },
    {
      "cell_type": "code",
      "source": [
        "# Instrumental variables (IVs)\n",
        "z  <- ifelse(SchoolingReturns$nearcollege == \"yes\", 1, 0)   # convert to numeric binary variable\n",
        "z2 <- ifelse(SchoolingReturns$nearcollege2 == \"yes\", 1, 0)  # convert to numeric binary variable\n",
        "z4 <- ifelse(SchoolingReturns$nearcollege4 == \"yes\", 1, 0)  # convert to numeric binary variable\n",
        "\n",
        "Z = model.matrix(~ (z + z2 + z4 + meducation + feducation+ poly(age, 2))^3, data = SchoolingReturns)"
      ],
      "metadata": {
        "id": "Zcj69-kkrm-8"
      },
      "execution_count": 35,
      "outputs": []
    },
    {
      "cell_type": "code",
      "source": [
        "iv <- ivreg(log(wage) ~ education + (poly(experience, 2) + ethnicity + smsa + south)^3 |\n",
        "                nearcollege + (poly(age, 2) + ethnicity + smsa + south)^3,\n",
        "              data = SchoolingReturns)\n",
        "summary(iv)$coefficients[2,]"
      ],
      "metadata": {
        "colab": {
          "base_uri": "https://localhost:8080/",
          "height": 34
        },
        "collapsed": true,
        "id": "AAUSp_Gw9BmO",
        "outputId": "ff46f663-2f69-4a55-b34c-afa29b947184"
      },
      "execution_count": 39,
      "outputs": [
        {
          "output_type": "display_data",
          "data": {
            "text/html": [
              "<style>\n",
              ".dl-inline {width: auto; margin:0; padding: 0}\n",
              ".dl-inline>dt, .dl-inline>dd {float: none; width: auto; display: inline-block}\n",
              ".dl-inline>dt::after {content: \":\\0020\"; padding-right: .5ex}\n",
              ".dl-inline>dt:not(:first-of-type) {padding-left: .5ex}\n",
              "</style><dl class=dl-inline><dt>Estimate</dt><dd>0.135051644726108</dd><dt>Std. Error</dt><dd>0.0546585315633984</dd><dt>t value</dt><dd>2.47082460620922</dd><dt>Pr(&gt;|t|)</dt><dd>0.0135356160501702</dd></dl>\n"
            ],
            "text/markdown": "Estimate\n:   0.135051644726108Std. Error\n:   0.0546585315633984t value\n:   2.47082460620922Pr(&amp;gt;|t|)\n:   0.0135356160501702\n\n",
            "text/latex": "\\begin{description*}\n\\item[Estimate] 0.135051644726108\n\\item[Std. Error] 0.0546585315633984\n\\item[t value] 2.47082460620922\n\\item[Pr(>\\textbackslash{}textbar\\{\\}t\\textbackslash{}textbar\\{\\})] 0.0135356160501702\n\\end{description*}\n",
            "text/plain": [
              "  Estimate Std. Error    t value   Pr(>|t|) \n",
              "0.13505164 0.05465853 2.47082461 0.01353562 "
            ]
          },
          "metadata": {}
        }
      ]
    },
    {
      "cell_type": "code",
      "source": [
        "# Post-Double selection with one IV: hand-coded (for partialling-out)\n",
        "rY = rlasso(X,Y)$res\n",
        "rD = rlasso(X,D)$res\n",
        "rZ = rlasso(X,z)$res\n",
        "ivfit.lasso = tsls(rY ~ rD | rZ, intercept= FALSE)\n",
        "print(cbind(ivfit.lasso$coef, ivfit.lasso$se), digits=4)"
      ],
      "metadata": {
        "colab": {
          "base_uri": "https://localhost:8080/"
        },
        "id": "xurk0TdzbrjD",
        "outputId": "6d7afe5c-eaad-44a8-b96c-6a8d0f2c5090"
      },
      "execution_count": 80,
      "outputs": [
        {
          "output_type": "stream",
          "name": "stdout",
          "text": [
            "     [,1]    [,2]\n",
            "rD 0.1326 0.04988\n"
          ]
        }
      ]
    },
    {
      "cell_type": "code",
      "source": [
        "# Post-Double selection with one IV: `hdm` package\n",
        "ds.iv.xsel = rlassoIV(X, D, Y, z, select.X=TRUE, select.Z=FALSE)\n",
        "summary(ds.iv.xsel)\n",
        "\n",
        "# Equivalent to:\n",
        "#ds.iv.xsel = rlassoIVselectX(X, D, Y, z)\n",
        "#summary(ds.iv.xsel)\n",
        "#coef(ds.iv.xsel, selection.matrix = T) # print selection matrix"
      ],
      "metadata": {
        "colab": {
          "base_uri": "https://localhost:8080/"
        },
        "id": "A_zFOxsEvgiw",
        "outputId": "fbe11ff2-7e81-4b50-8a1a-3d894e76856c"
      },
      "execution_count": 25,
      "outputs": [
        {
          "output_type": "stream",
          "name": "stdout",
          "text": [
            "[1] \"Estimation and significance testing of the effect of target variables in the IV regression model\"\n",
            "    coeff.     se. t-value p-value   \n",
            "d1 0.13260 0.04988   2.658 0.00786 **\n",
            "---\n",
            "Signif. codes:  0 ‘***’ 0.001 ‘**’ 0.01 ‘*’ 0.05 ‘.’ 0.1 ‘ ’ 1\n",
            "\n",
            "\n"
          ]
        }
      ]
    },
    {
      "cell_type": "code",
      "source": [
        "# Post-Double selection with multiple IVs: `hdm` package\n",
        "ds.iv.xzsel = rlassoIV(X, D, Y, Z, select.X=TRUE, select.Z=TRUE)\n",
        "summary(ds.iv.xzsel)\n",
        "coef(ds.iv.xzsel, selection.matrix = T) # print selection matrix\n",
        "\n"
      ],
      "metadata": {
        "colab": {
          "base_uri": "https://localhost:8080/",
          "height": 1000
        },
        "id": "2CGPcbQvfAbh",
        "outputId": "af59287e-fe41-4710-96ee-9cdc94028296"
      },
      "execution_count": 30,
      "outputs": [
        {
          "output_type": "stream",
          "name": "stdout",
          "text": [
            "Estimates and Significance Testing of the effect of target variables in the IV regression model \n",
            "     coeff.      se. t-value p-value    \n",
            "d1 0.072583 0.003639   19.95  <2e-16 ***\n",
            "---\n",
            "Signif. codes:  0 ‘***’ 0.001 ‘**’ 0.01 ‘*’ 0.05 ‘.’ 0.1 ‘ ’ 1\n",
            "\n",
            "\n"
          ]
        },
        {
          "output_type": "display_data",
          "data": {
            "text/html": [
              "<dl>\n",
              "\t<dt>$cf</dt>\n",
              "\t\t<dd><strong>d1:</strong> 0.0725828005886737</dd>\n",
              "\t<dt>$selection.matrix</dt>\n",
              "\t\t<dd><table class=\"dataframe\">\n",
              "<caption>A matrix: 23 × 3 of type chr</caption>\n",
              "<thead>\n",
              "\t<tr><th></th><th scope=col>y</th><th scope=col>d1</th><th scope=col>global</th></tr>\n",
              "</thead>\n",
              "<tbody>\n",
              "\t<tr><th scope=row>poly(experience, 2)1</th><td>.</td><td>x</td><td>x </td></tr>\n",
              "\t<tr><th scope=row>poly(experience, 2)2</th><td>x</td><td>.</td><td>x </td></tr>\n",
              "\t<tr><th scope=row>ethnicityother</th><td>x</td><td>x</td><td>x </td></tr>\n",
              "\t<tr><th scope=row>ethnicityafam</th><td>x</td><td>.</td><td>x </td></tr>\n",
              "\t<tr><th scope=row>smsayes</th><td>x</td><td>x</td><td>x </td></tr>\n",
              "\t<tr><th scope=row>southyes</th><td>x</td><td>x</td><td>x </td></tr>\n",
              "\t<tr><th scope=row>poly(experience, 2)1:ethnicityafam</th><td>.</td><td>.</td><td>. </td></tr>\n",
              "\t<tr><th scope=row>poly(experience, 2)2:ethnicityafam</th><td>.</td><td>.</td><td>. </td></tr>\n",
              "\t<tr><th scope=row>poly(experience, 2)1:smsayes</th><td>x</td><td>.</td><td>x </td></tr>\n",
              "\t<tr><th scope=row>poly(experience, 2)2:smsayes</th><td>x</td><td>.</td><td>x </td></tr>\n",
              "\t<tr><th scope=row>poly(experience, 2)1:southyes</th><td>.</td><td>x</td><td>x </td></tr>\n",
              "\t<tr><th scope=row>poly(experience, 2)2:southyes</th><td>.</td><td>.</td><td>. </td></tr>\n",
              "\t<tr><th scope=row>ethnicityafam:smsayes</th><td>.</td><td>.</td><td>. </td></tr>\n",
              "\t<tr><th scope=row>ethnicityafam:southyes</th><td>x</td><td>x</td><td>x </td></tr>\n",
              "\t<tr><th scope=row>smsayes:southyes</th><td>.</td><td>.</td><td>. </td></tr>\n",
              "\t<tr><th scope=row>poly(experience, 2)1:ethnicityafam:smsayes</th><td>.</td><td>.</td><td>. </td></tr>\n",
              "\t<tr><th scope=row>poly(experience, 2)2:ethnicityafam:smsayes</th><td>.</td><td>.</td><td>. </td></tr>\n",
              "\t<tr><th scope=row>poly(experience, 2)1:ethnicityafam:southyes</th><td>x</td><td>.</td><td>x </td></tr>\n",
              "\t<tr><th scope=row>poly(experience, 2)2:ethnicityafam:southyes</th><td>.</td><td>.</td><td>. </td></tr>\n",
              "\t<tr><th scope=row>poly(experience, 2)1:smsayes:southyes</th><td>.</td><td>.</td><td>. </td></tr>\n",
              "\t<tr><th scope=row>poly(experience, 2)2:smsayes:southyes</th><td>.</td><td>.</td><td>. </td></tr>\n",
              "\t<tr><th scope=row>ethnicityafam:smsayes:southyes</th><td>.</td><td>.</td><td>. </td></tr>\n",
              "\t<tr><th scope=row>sum</th><td>9</td><td>6</td><td>xx</td></tr>\n",
              "</tbody>\n",
              "</table>\n",
              "</dd>\n",
              "\t<dt>$selection.matrixZ</dt>\n",
              "\t\t<dd><table class=\"dataframe\">\n",
              "<caption>A matrix: 81 × 2 of type chr</caption>\n",
              "<thead>\n",
              "\t<tr><th></th><th scope=col>d1</th><th scope=col>global.Z</th></tr>\n",
              "</thead>\n",
              "<tbody>\n",
              "\t<tr><th scope=row>(Intercept)</th><td>.</td><td>.</td></tr>\n",
              "\t<tr><th scope=row>z</th><td>x</td><td>x</td></tr>\n",
              "\t<tr><th scope=row>z2</th><td>x</td><td>x</td></tr>\n",
              "\t<tr><th scope=row>z4</th><td>.</td><td>.</td></tr>\n",
              "\t<tr><th scope=row>meducation</th><td>x</td><td>x</td></tr>\n",
              "\t<tr><th scope=row>feducation</th><td>x</td><td>x</td></tr>\n",
              "\t<tr><th scope=row>poly(age, 2)1</th><td>x</td><td>x</td></tr>\n",
              "\t<tr><th scope=row>poly(age, 2)2</th><td>x</td><td>x</td></tr>\n",
              "\t<tr><th scope=row>z:z2</th><td>x</td><td>x</td></tr>\n",
              "\t<tr><th scope=row>z:z4</th><td>.</td><td>.</td></tr>\n",
              "\t<tr><th scope=row>z:meducation</th><td>x</td><td>x</td></tr>\n",
              "\t<tr><th scope=row>z:feducation</th><td>x</td><td>x</td></tr>\n",
              "\t<tr><th scope=row>z:poly(age, 2)1</th><td>x</td><td>x</td></tr>\n",
              "\t<tr><th scope=row>z:poly(age, 2)2</th><td>x</td><td>x</td></tr>\n",
              "\t<tr><th scope=row>z2:z4</th><td>.</td><td>.</td></tr>\n",
              "\t<tr><th scope=row>z2:meducation</th><td>x</td><td>x</td></tr>\n",
              "\t<tr><th scope=row>z2:feducation</th><td>x</td><td>x</td></tr>\n",
              "\t<tr><th scope=row>z2:poly(age, 2)1</th><td>x</td><td>x</td></tr>\n",
              "\t<tr><th scope=row>z2:poly(age, 2)2</th><td>x</td><td>x</td></tr>\n",
              "\t<tr><th scope=row>z4:meducation</th><td>.</td><td>.</td></tr>\n",
              "\t<tr><th scope=row>z4:feducation</th><td>.</td><td>.</td></tr>\n",
              "\t<tr><th scope=row>z4:poly(age, 2)1</th><td>.</td><td>.</td></tr>\n",
              "\t<tr><th scope=row>z4:poly(age, 2)2</th><td>.</td><td>.</td></tr>\n",
              "\t<tr><th scope=row>meducation:feducation</th><td>x</td><td>x</td></tr>\n",
              "\t<tr><th scope=row>meducation:poly(age, 2)1</th><td>x</td><td>x</td></tr>\n",
              "\t<tr><th scope=row>meducation:poly(age, 2)2</th><td>x</td><td>x</td></tr>\n",
              "\t<tr><th scope=row>feducation:poly(age, 2)1</th><td>x</td><td>x</td></tr>\n",
              "\t<tr><th scope=row>feducation:poly(age, 2)2</th><td>x</td><td>x</td></tr>\n",
              "\t<tr><th scope=row>z:z2:z4</th><td>.</td><td>.</td></tr>\n",
              "\t<tr><th scope=row>z:z2:meducation</th><td>x</td><td>x</td></tr>\n",
              "\t<tr><th scope=row>⋮</th><td>⋮</td><td>⋮</td></tr>\n",
              "\t<tr><th scope=row>z4:meducation:feducation</th><td>. </td><td>. </td></tr>\n",
              "\t<tr><th scope=row>z4:meducation:poly(age, 2)1</th><td>. </td><td>. </td></tr>\n",
              "\t<tr><th scope=row>z4:meducation:poly(age, 2)2</th><td>. </td><td>. </td></tr>\n",
              "\t<tr><th scope=row>z4:feducation:poly(age, 2)1</th><td>. </td><td>. </td></tr>\n",
              "\t<tr><th scope=row>z4:feducation:poly(age, 2)2</th><td>. </td><td>. </td></tr>\n",
              "\t<tr><th scope=row>meducation:feducation:poly(age, 2)1</th><td>x </td><td>x </td></tr>\n",
              "\t<tr><th scope=row>meducation:feducation:poly(age, 2)2</th><td>x </td><td>x </td></tr>\n",
              "\t<tr><th scope=row>poly(experience, 2)1</th><td>x </td><td>x </td></tr>\n",
              "\t<tr><th scope=row>poly(experience, 2)2</th><td>x </td><td>x </td></tr>\n",
              "\t<tr><th scope=row>ethnicityother</th><td>x </td><td>x </td></tr>\n",
              "\t<tr><th scope=row>ethnicityafam</th><td>. </td><td>. </td></tr>\n",
              "\t<tr><th scope=row>smsayes</th><td>x </td><td>x </td></tr>\n",
              "\t<tr><th scope=row>southyes</th><td>x </td><td>x </td></tr>\n",
              "\t<tr><th scope=row>poly(experience, 2)1:ethnicityafam</th><td>x </td><td>x </td></tr>\n",
              "\t<tr><th scope=row>poly(experience, 2)2:ethnicityafam</th><td>x </td><td>x </td></tr>\n",
              "\t<tr><th scope=row>poly(experience, 2)1:smsayes</th><td>x </td><td>x </td></tr>\n",
              "\t<tr><th scope=row>poly(experience, 2)2:smsayes</th><td>x </td><td>x </td></tr>\n",
              "\t<tr><th scope=row>poly(experience, 2)1:southyes</th><td>x </td><td>x </td></tr>\n",
              "\t<tr><th scope=row>poly(experience, 2)2:southyes</th><td>x </td><td>x </td></tr>\n",
              "\t<tr><th scope=row>ethnicityafam:smsayes</th><td>x </td><td>x </td></tr>\n",
              "\t<tr><th scope=row>ethnicityafam:southyes</th><td>x </td><td>x </td></tr>\n",
              "\t<tr><th scope=row>smsayes:southyes</th><td>x </td><td>x </td></tr>\n",
              "\t<tr><th scope=row>poly(experience, 2)1:ethnicityafam:smsayes</th><td>x </td><td>x </td></tr>\n",
              "\t<tr><th scope=row>poly(experience, 2)2:ethnicityafam:smsayes</th><td>x </td><td>x </td></tr>\n",
              "\t<tr><th scope=row>poly(experience, 2)1:ethnicityafam:southyes</th><td>x </td><td>x </td></tr>\n",
              "\t<tr><th scope=row>poly(experience, 2)2:ethnicityafam:southyes</th><td>x </td><td>x </td></tr>\n",
              "\t<tr><th scope=row>poly(experience, 2)1:smsayes:southyes</th><td>x </td><td>x </td></tr>\n",
              "\t<tr><th scope=row>poly(experience, 2)2:smsayes:southyes</th><td>x </td><td>x </td></tr>\n",
              "\t<tr><th scope=row>ethnicityafam:smsayes:southyes</th><td>x </td><td>x </td></tr>\n",
              "\t<tr><th scope=row>sum</th><td>57</td><td>57</td></tr>\n",
              "</tbody>\n",
              "</table>\n",
              "</dd>\n",
              "</dl>\n"
            ],
            "text/markdown": "$cf\n:   **d1:** 0.0725828005886737\n$selection.matrix\n:   \nA matrix: 23 × 3 of type chr\n\n| <!--/--> | y | d1 | global |\n|---|---|---|---|\n| poly(experience, 2)1 | . | x | x  |\n| poly(experience, 2)2 | x | . | x  |\n| ethnicityother | x | x | x  |\n| ethnicityafam | x | . | x  |\n| smsayes | x | x | x  |\n| southyes | x | x | x  |\n| poly(experience, 2)1:ethnicityafam | . | . | .  |\n| poly(experience, 2)2:ethnicityafam | . | . | .  |\n| poly(experience, 2)1:smsayes | x | . | x  |\n| poly(experience, 2)2:smsayes | x | . | x  |\n| poly(experience, 2)1:southyes | . | x | x  |\n| poly(experience, 2)2:southyes | . | . | .  |\n| ethnicityafam:smsayes | . | . | .  |\n| ethnicityafam:southyes | x | x | x  |\n| smsayes:southyes | . | . | .  |\n| poly(experience, 2)1:ethnicityafam:smsayes | . | . | .  |\n| poly(experience, 2)2:ethnicityafam:smsayes | . | . | .  |\n| poly(experience, 2)1:ethnicityafam:southyes | x | . | x  |\n| poly(experience, 2)2:ethnicityafam:southyes | . | . | .  |\n| poly(experience, 2)1:smsayes:southyes | . | . | .  |\n| poly(experience, 2)2:smsayes:southyes | . | . | .  |\n| ethnicityafam:smsayes:southyes | . | . | .  |\n| sum | 9 | 6 | xx |\n\n\n$selection.matrixZ\n:   \nA matrix: 81 × 2 of type chr\n\n| <!--/--> | d1 | global.Z |\n|---|---|---|\n| (Intercept) | . | . |\n| z | x | x |\n| z2 | x | x |\n| z4 | . | . |\n| meducation | x | x |\n| feducation | x | x |\n| poly(age, 2)1 | x | x |\n| poly(age, 2)2 | x | x |\n| z:z2 | x | x |\n| z:z4 | . | . |\n| z:meducation | x | x |\n| z:feducation | x | x |\n| z:poly(age, 2)1 | x | x |\n| z:poly(age, 2)2 | x | x |\n| z2:z4 | . | . |\n| z2:meducation | x | x |\n| z2:feducation | x | x |\n| z2:poly(age, 2)1 | x | x |\n| z2:poly(age, 2)2 | x | x |\n| z4:meducation | . | . |\n| z4:feducation | . | . |\n| z4:poly(age, 2)1 | . | . |\n| z4:poly(age, 2)2 | . | . |\n| meducation:feducation | x | x |\n| meducation:poly(age, 2)1 | x | x |\n| meducation:poly(age, 2)2 | x | x |\n| feducation:poly(age, 2)1 | x | x |\n| feducation:poly(age, 2)2 | x | x |\n| z:z2:z4 | . | . |\n| z:z2:meducation | x | x |\n| ⋮ | ⋮ | ⋮ |\n| z4:meducation:feducation | .  | .  |\n| z4:meducation:poly(age, 2)1 | .  | .  |\n| z4:meducation:poly(age, 2)2 | .  | .  |\n| z4:feducation:poly(age, 2)1 | .  | .  |\n| z4:feducation:poly(age, 2)2 | .  | .  |\n| meducation:feducation:poly(age, 2)1 | x  | x  |\n| meducation:feducation:poly(age, 2)2 | x  | x  |\n| poly(experience, 2)1 | x  | x  |\n| poly(experience, 2)2 | x  | x  |\n| ethnicityother | x  | x  |\n| ethnicityafam | .  | .  |\n| smsayes | x  | x  |\n| southyes | x  | x  |\n| poly(experience, 2)1:ethnicityafam | x  | x  |\n| poly(experience, 2)2:ethnicityafam | x  | x  |\n| poly(experience, 2)1:smsayes | x  | x  |\n| poly(experience, 2)2:smsayes | x  | x  |\n| poly(experience, 2)1:southyes | x  | x  |\n| poly(experience, 2)2:southyes | x  | x  |\n| ethnicityafam:smsayes | x  | x  |\n| ethnicityafam:southyes | x  | x  |\n| smsayes:southyes | x  | x  |\n| poly(experience, 2)1:ethnicityafam:smsayes | x  | x  |\n| poly(experience, 2)2:ethnicityafam:smsayes | x  | x  |\n| poly(experience, 2)1:ethnicityafam:southyes | x  | x  |\n| poly(experience, 2)2:ethnicityafam:southyes | x  | x  |\n| poly(experience, 2)1:smsayes:southyes | x  | x  |\n| poly(experience, 2)2:smsayes:southyes | x  | x  |\n| ethnicityafam:smsayes:southyes | x  | x  |\n| sum | 57 | 57 |\n\n\n\n\n",
            "text/latex": "\\begin{description}\n\\item[\\$cf] \\textbf{d1:} 0.0725828005886737\n\\item[\\$selection.matrix] A matrix: 23 × 3 of type chr\n\\begin{tabular}{r|lll}\n  & y & d1 & global\\\\\n\\hline\n\tpoly(experience, 2)1 & . & x & x \\\\\n\tpoly(experience, 2)2 & x & . & x \\\\\n\tethnicityother & x & x & x \\\\\n\tethnicityafam & x & . & x \\\\\n\tsmsayes & x & x & x \\\\\n\tsouthyes & x & x & x \\\\\n\tpoly(experience, 2)1:ethnicityafam & . & . & . \\\\\n\tpoly(experience, 2)2:ethnicityafam & . & . & . \\\\\n\tpoly(experience, 2)1:smsayes & x & . & x \\\\\n\tpoly(experience, 2)2:smsayes & x & . & x \\\\\n\tpoly(experience, 2)1:southyes & . & x & x \\\\\n\tpoly(experience, 2)2:southyes & . & . & . \\\\\n\tethnicityafam:smsayes & . & . & . \\\\\n\tethnicityafam:southyes & x & x & x \\\\\n\tsmsayes:southyes & . & . & . \\\\\n\tpoly(experience, 2)1:ethnicityafam:smsayes & . & . & . \\\\\n\tpoly(experience, 2)2:ethnicityafam:smsayes & . & . & . \\\\\n\tpoly(experience, 2)1:ethnicityafam:southyes & x & . & x \\\\\n\tpoly(experience, 2)2:ethnicityafam:southyes & . & . & . \\\\\n\tpoly(experience, 2)1:smsayes:southyes & . & . & . \\\\\n\tpoly(experience, 2)2:smsayes:southyes & . & . & . \\\\\n\tethnicityafam:smsayes:southyes & . & . & . \\\\\n\tsum & 9 & 6 & xx\\\\\n\\end{tabular}\n\n\\item[\\$selection.matrixZ] A matrix: 81 × 2 of type chr\n\\begin{tabular}{r|ll}\n  & d1 & global.Z\\\\\n\\hline\n\t(Intercept) & . & .\\\\\n\tz & x & x\\\\\n\tz2 & x & x\\\\\n\tz4 & . & .\\\\\n\tmeducation & x & x\\\\\n\tfeducation & x & x\\\\\n\tpoly(age, 2)1 & x & x\\\\\n\tpoly(age, 2)2 & x & x\\\\\n\tz:z2 & x & x\\\\\n\tz:z4 & . & .\\\\\n\tz:meducation & x & x\\\\\n\tz:feducation & x & x\\\\\n\tz:poly(age, 2)1 & x & x\\\\\n\tz:poly(age, 2)2 & x & x\\\\\n\tz2:z4 & . & .\\\\\n\tz2:meducation & x & x\\\\\n\tz2:feducation & x & x\\\\\n\tz2:poly(age, 2)1 & x & x\\\\\n\tz2:poly(age, 2)2 & x & x\\\\\n\tz4:meducation & . & .\\\\\n\tz4:feducation & . & .\\\\\n\tz4:poly(age, 2)1 & . & .\\\\\n\tz4:poly(age, 2)2 & . & .\\\\\n\tmeducation:feducation & x & x\\\\\n\tmeducation:poly(age, 2)1 & x & x\\\\\n\tmeducation:poly(age, 2)2 & x & x\\\\\n\tfeducation:poly(age, 2)1 & x & x\\\\\n\tfeducation:poly(age, 2)2 & x & x\\\\\n\tz:z2:z4 & . & .\\\\\n\tz:z2:meducation & x & x\\\\\n\t⋮ & ⋮ & ⋮\\\\\n\tz4:meducation:feducation & .  & . \\\\\n\tz4:meducation:poly(age, 2)1 & .  & . \\\\\n\tz4:meducation:poly(age, 2)2 & .  & . \\\\\n\tz4:feducation:poly(age, 2)1 & .  & . \\\\\n\tz4:feducation:poly(age, 2)2 & .  & . \\\\\n\tmeducation:feducation:poly(age, 2)1 & x  & x \\\\\n\tmeducation:feducation:poly(age, 2)2 & x  & x \\\\\n\tpoly(experience, 2)1 & x  & x \\\\\n\tpoly(experience, 2)2 & x  & x \\\\\n\tethnicityother & x  & x \\\\\n\tethnicityafam & .  & . \\\\\n\tsmsayes & x  & x \\\\\n\tsouthyes & x  & x \\\\\n\tpoly(experience, 2)1:ethnicityafam & x  & x \\\\\n\tpoly(experience, 2)2:ethnicityafam & x  & x \\\\\n\tpoly(experience, 2)1:smsayes & x  & x \\\\\n\tpoly(experience, 2)2:smsayes & x  & x \\\\\n\tpoly(experience, 2)1:southyes & x  & x \\\\\n\tpoly(experience, 2)2:southyes & x  & x \\\\\n\tethnicityafam:smsayes & x  & x \\\\\n\tethnicityafam:southyes & x  & x \\\\\n\tsmsayes:southyes & x  & x \\\\\n\tpoly(experience, 2)1:ethnicityafam:smsayes & x  & x \\\\\n\tpoly(experience, 2)2:ethnicityafam:smsayes & x  & x \\\\\n\tpoly(experience, 2)1:ethnicityafam:southyes & x  & x \\\\\n\tpoly(experience, 2)2:ethnicityafam:southyes & x  & x \\\\\n\tpoly(experience, 2)1:smsayes:southyes & x  & x \\\\\n\tpoly(experience, 2)2:smsayes:southyes & x  & x \\\\\n\tethnicityafam:smsayes:southyes & x  & x \\\\\n\tsum & 57 & 57\\\\\n\\end{tabular}\n\n\\end{description}\n",
            "text/plain": [
              "$cf\n",
              "       d1 \n",
              "0.0725828 \n",
              "\n",
              "$selection.matrix\n",
              "                                            y   d1  global\n",
              "poly(experience, 2)1                        \".\" \"x\" \"x\"   \n",
              "poly(experience, 2)2                        \"x\" \".\" \"x\"   \n",
              "ethnicityother                              \"x\" \"x\" \"x\"   \n",
              "ethnicityafam                               \"x\" \".\" \"x\"   \n",
              "smsayes                                     \"x\" \"x\" \"x\"   \n",
              "southyes                                    \"x\" \"x\" \"x\"   \n",
              "poly(experience, 2)1:ethnicityafam          \".\" \".\" \".\"   \n",
              "poly(experience, 2)2:ethnicityafam          \".\" \".\" \".\"   \n",
              "poly(experience, 2)1:smsayes                \"x\" \".\" \"x\"   \n",
              "poly(experience, 2)2:smsayes                \"x\" \".\" \"x\"   \n",
              "poly(experience, 2)1:southyes               \".\" \"x\" \"x\"   \n",
              "poly(experience, 2)2:southyes               \".\" \".\" \".\"   \n",
              "ethnicityafam:smsayes                       \".\" \".\" \".\"   \n",
              "ethnicityafam:southyes                      \"x\" \"x\" \"x\"   \n",
              "smsayes:southyes                            \".\" \".\" \".\"   \n",
              "poly(experience, 2)1:ethnicityafam:smsayes  \".\" \".\" \".\"   \n",
              "poly(experience, 2)2:ethnicityafam:smsayes  \".\" \".\" \".\"   \n",
              "poly(experience, 2)1:ethnicityafam:southyes \"x\" \".\" \"x\"   \n",
              "poly(experience, 2)2:ethnicityafam:southyes \".\" \".\" \".\"   \n",
              "poly(experience, 2)1:smsayes:southyes       \".\" \".\" \".\"   \n",
              "poly(experience, 2)2:smsayes:southyes       \".\" \".\" \".\"   \n",
              "ethnicityafam:smsayes:southyes              \".\" \".\" \".\"   \n",
              "sum                                         \"9\" \"6\" \"xx\"  \n",
              "\n",
              "$selection.matrixZ\n",
              "                                            d1   global.Z\n",
              "(Intercept)                                 \".\"  \".\"     \n",
              "z                                           \"x\"  \"x\"     \n",
              "z2                                          \"x\"  \"x\"     \n",
              "z4                                          \".\"  \".\"     \n",
              "meducation                                  \"x\"  \"x\"     \n",
              "feducation                                  \"x\"  \"x\"     \n",
              "poly(age, 2)1                               \"x\"  \"x\"     \n",
              "poly(age, 2)2                               \"x\"  \"x\"     \n",
              "z:z2                                        \"x\"  \"x\"     \n",
              "z:z4                                        \".\"  \".\"     \n",
              "z:meducation                                \"x\"  \"x\"     \n",
              "z:feducation                                \"x\"  \"x\"     \n",
              "z:poly(age, 2)1                             \"x\"  \"x\"     \n",
              "z:poly(age, 2)2                             \"x\"  \"x\"     \n",
              "z2:z4                                       \".\"  \".\"     \n",
              "z2:meducation                               \"x\"  \"x\"     \n",
              "z2:feducation                               \"x\"  \"x\"     \n",
              "z2:poly(age, 2)1                            \"x\"  \"x\"     \n",
              "z2:poly(age, 2)2                            \"x\"  \"x\"     \n",
              "z4:meducation                               \".\"  \".\"     \n",
              "z4:feducation                               \".\"  \".\"     \n",
              "z4:poly(age, 2)1                            \".\"  \".\"     \n",
              "z4:poly(age, 2)2                            \".\"  \".\"     \n",
              "meducation:feducation                       \"x\"  \"x\"     \n",
              "meducation:poly(age, 2)1                    \"x\"  \"x\"     \n",
              "meducation:poly(age, 2)2                    \"x\"  \"x\"     \n",
              "feducation:poly(age, 2)1                    \"x\"  \"x\"     \n",
              "feducation:poly(age, 2)2                    \"x\"  \"x\"     \n",
              "z:z2:z4                                     \".\"  \".\"     \n",
              "z:z2:meducation                             \"x\"  \"x\"     \n",
              "z:z2:feducation                             \"x\"  \"x\"     \n",
              "z:z2:poly(age, 2)1                          \"x\"  \"x\"     \n",
              "z:z2:poly(age, 2)2                          \"x\"  \"x\"     \n",
              "z:z4:meducation                             \".\"  \".\"     \n",
              "z:z4:feducation                             \".\"  \".\"     \n",
              "z:z4:poly(age, 2)1                          \".\"  \".\"     \n",
              "z:z4:poly(age, 2)2                          \".\"  \".\"     \n",
              "z:meducation:feducation                     \"x\"  \"x\"     \n",
              "z:meducation:poly(age, 2)1                  \"x\"  \"x\"     \n",
              "z:meducation:poly(age, 2)2                  \"x\"  \"x\"     \n",
              "z:feducation:poly(age, 2)1                  \"x\"  \"x\"     \n",
              "z:feducation:poly(age, 2)2                  \"x\"  \"x\"     \n",
              "z2:z4:meducation                            \".\"  \".\"     \n",
              "z2:z4:feducation                            \".\"  \".\"     \n",
              "z2:z4:poly(age, 2)1                         \".\"  \".\"     \n",
              "z2:z4:poly(age, 2)2                         \".\"  \".\"     \n",
              "z2:meducation:feducation                    \"x\"  \"x\"     \n",
              "z2:meducation:poly(age, 2)1                 \"x\"  \"x\"     \n",
              "z2:meducation:poly(age, 2)2                 \"x\"  \"x\"     \n",
              "z2:feducation:poly(age, 2)1                 \"x\"  \"x\"     \n",
              "z2:feducation:poly(age, 2)2                 \"x\"  \"x\"     \n",
              "z4:meducation:feducation                    \".\"  \".\"     \n",
              "z4:meducation:poly(age, 2)1                 \".\"  \".\"     \n",
              "z4:meducation:poly(age, 2)2                 \".\"  \".\"     \n",
              "z4:feducation:poly(age, 2)1                 \".\"  \".\"     \n",
              "z4:feducation:poly(age, 2)2                 \".\"  \".\"     \n",
              "meducation:feducation:poly(age, 2)1         \"x\"  \"x\"     \n",
              "meducation:feducation:poly(age, 2)2         \"x\"  \"x\"     \n",
              "poly(experience, 2)1                        \"x\"  \"x\"     \n",
              "poly(experience, 2)2                        \"x\"  \"x\"     \n",
              "ethnicityother                              \"x\"  \"x\"     \n",
              "ethnicityafam                               \".\"  \".\"     \n",
              "smsayes                                     \"x\"  \"x\"     \n",
              "southyes                                    \"x\"  \"x\"     \n",
              "poly(experience, 2)1:ethnicityafam          \"x\"  \"x\"     \n",
              "poly(experience, 2)2:ethnicityafam          \"x\"  \"x\"     \n",
              "poly(experience, 2)1:smsayes                \"x\"  \"x\"     \n",
              "poly(experience, 2)2:smsayes                \"x\"  \"x\"     \n",
              "poly(experience, 2)1:southyes               \"x\"  \"x\"     \n",
              "poly(experience, 2)2:southyes               \"x\"  \"x\"     \n",
              "ethnicityafam:smsayes                       \"x\"  \"x\"     \n",
              "ethnicityafam:southyes                      \"x\"  \"x\"     \n",
              "smsayes:southyes                            \"x\"  \"x\"     \n",
              "poly(experience, 2)1:ethnicityafam:smsayes  \"x\"  \"x\"     \n",
              "poly(experience, 2)2:ethnicityafam:smsayes  \"x\"  \"x\"     \n",
              "poly(experience, 2)1:ethnicityafam:southyes \"x\"  \"x\"     \n",
              "poly(experience, 2)2:ethnicityafam:southyes \"x\"  \"x\"     \n",
              "poly(experience, 2)1:smsayes:southyes       \"x\"  \"x\"     \n",
              "poly(experience, 2)2:smsayes:southyes       \"x\"  \"x\"     \n",
              "ethnicityafam:smsayes:southyes              \"x\"  \"x\"     \n",
              "sum                                         \"57\" \"57\"    \n"
            ]
          },
          "metadata": {}
        }
      ]
    },
    {
      "cell_type": "code",
      "source": [
        "# Graphical comparison of the results\n",
        "Coefficient = c(summary(iv)$coefficients[2,1],ivfit.lasso$coefficients,ds.iv.xsel$coefficients,ds.iv.xzsel$coefficients)\n",
        "se =  c(summary(iv)$coefficients[2,2],ivfit.lasso$se,ds.iv.xsel$se,ds.iv.xzsel$se)\n",
        "data.frame(Coefficient,se,\n",
        "                Method = c(\"IV\",\"DS-IV handcoded\",\"DS-IV selectX\",\"DS-IV selectXZ\"),\n",
        "                cil = Coefficient - 1.96*se,\n",
        "                ciu = Coefficient + 1.96*se)  %>%\n",
        "  ggplot(aes(x=Method,y=Coefficient,ymin=cil,ymax=ciu)) + geom_point(size=2.5) + geom_errorbar(width=0.15)  +\n",
        "  geom_hline(yintercept=0)"
      ],
      "metadata": {
        "colab": {
          "base_uri": "https://localhost:8080/",
          "height": 472
        },
        "id": "1jdoFDTo0eOy",
        "outputId": "9305e3be-9316-4d10-84ec-994def7a5408"
      },
      "execution_count": 41,
      "outputs": [
        {
          "output_type": "display_data",
          "data": {
            "text/html": [
              "0.135051644726108"
            ],
            "text/markdown": "0.135051644726108",
            "text/latex": "0.135051644726108",
            "text/plain": [
              "[1] 0.1350516"
            ]
          },
          "metadata": {}
        },
        {
          "output_type": "display_data",
          "data": {
            "text/html": [
              "0.0546585315633984"
            ],
            "text/markdown": "0.0546585315633984",
            "text/latex": "0.0546585315633984",
            "text/plain": [
              "[1] 0.05465853"
            ]
          },
          "metadata": {}
        },
        {
          "output_type": "display_data",
          "data": {
            "text/plain": [
              "plot without title"
            ],
            "image/png": "[encoded data removed]"
          },
          "metadata": {
            "image/png": {
              "width": 420,
              "height": 420
            }
          }
        }
      ]
    },
    {
      "cell_type": "code",
      "source": [
        "# Display table that compares results\n",
        "library(xtable)\n",
        "\n",
        "table= matrix(0, 4, 2)\n",
        "table[1,]= cbind(ds1$coefficients,ds1$se)\n",
        "table[2,]= cbind(summary(iv)$coefficients[2,1],summary(iv)$coefficients[2,2])\n",
        "table[3,]= cbind(ds.iv.xsel$coefficients, ds.iv.xsel$se)\n",
        "table[4,]= cbind(ds.iv.xzsel$coefficients, ds.iv.xzsel$se)\n",
        "\n",
        "colnames(table)= c(\"Estimate\", \"Std. Error\")\n",
        "rownames(table)= c(\"DS OLS regression\", \"IV estimation \", \"IV selection on X\", \"IV selection on X and Z\")\n",
        "tab= xtable(table)\n",
        "tab"
      ],
      "metadata": {
        "colab": {
          "base_uri": "https://localhost:8080/",
          "height": 224
        },
        "id": "aId3uAbV8Rri",
        "outputId": "786539e8-0cc0-4f2b-9a29-ccf85f45d314"
      },
      "execution_count": 76,
      "outputs": [
        {
          "output_type": "display_data",
          "data": {
            "text/html": [
              "<table class=\"dataframe\">\n",
              "<caption>A xtable: 4 × 2</caption>\n",
              "<thead>\n",
              "\t<tr><th></th><th scope=col>Estimate</th><th scope=col>Std. Error</th></tr>\n",
              "\t<tr><th></th><th scope=col>&lt;dbl&gt;</th><th scope=col>&lt;dbl&gt;</th></tr>\n",
              "</thead>\n",
              "<tbody>\n",
              "\t<tr><th scope=row>DS OLS regression</th><td>0.07275877</td><td>0.003665224</td></tr>\n",
              "\t<tr><th scope=row>IV estimation </th><td>0.13505164</td><td>0.054658532</td></tr>\n",
              "\t<tr><th scope=row>IV selection on X</th><td>0.13260483</td><td>0.049884660</td></tr>\n",
              "\t<tr><th scope=row>IV selection on X and Z</th><td>0.07258280</td><td>0.003638521</td></tr>\n",
              "</tbody>\n",
              "</table>\n"
            ],
            "text/markdown": "\nA xtable: 4 × 2\n\n| <!--/--> | Estimate &lt;dbl&gt; | Std. Error &lt;dbl&gt; |\n|---|---|---|\n| DS OLS regression | 0.07275877 | 0.003665224 |\n| IV estimation  | 0.13505164 | 0.054658532 |\n| IV selection on X | 0.13260483 | 0.049884660 |\n| IV selection on X and Z | 0.07258280 | 0.003638521 |\n\n",
            "text/latex": "A xtable: 4 × 2\n\\begin{tabular}{r|ll}\n  & Estimate & Std. Error\\\\\n  & <dbl> & <dbl>\\\\\n\\hline\n\tDS OLS regression & 0.07275877 & 0.003665224\\\\\n\tIV estimation  & 0.13505164 & 0.054658532\\\\\n\tIV selection on X & 0.13260483 & 0.049884660\\\\\n\tIV selection on X and Z & 0.07258280 & 0.003638521\\\\\n\\end{tabular}\n",
            "text/plain": [
              "                        Estimate   Std. Error \n",
              "DS OLS regression       0.07275877 0.003665224\n",
              "IV estimation           0.13505164 0.054658532\n",
              "IV selection on X       0.13260483 0.049884660\n",
              "IV selection on X and Z 0.07258280 0.003638521"
            ]
          },
          "metadata": {}
        }
      ]
    },
    {
      "cell_type": "markdown",
      "source": [
        "With too many *weak instruments* (IV.XZsel), the 2SLS estimator is biased toward the OLS estimator.  "
      ],
      "metadata": {
        "id": "pzFF1UCMencY"
      }
    },
    {
      "cell_type": "markdown",
      "source": [
        "### **Double-selection with `naivereg` package**\n",
        "\n",
        "* Step 1: Regress Y on X using using Lasso, estimate the coefficients beta and select control variables (c1).\n",
        "\n",
        "* Step2: Regress D on instruments Z and controls X, estimate the\n",
        "optimal instrument and obtain the set of selected controls (cx).\n",
        "\n",
        "* Step 3: 2SLS regression of Y on the estimated optimal instrument and the union (c3) of c1 and cx.\n",
        "\n",
        "Unfortunately, the algorithm does not calculate the standard errors in the last stage, and it is not built with `cv_glmnet`.  "
      ],
      "metadata": {
        "id": "LefSXZK2Ws25"
      }
    },
    {
      "cell_type": "code",
      "source": [
        "# DS with only one IV -- i.e., nearcollege\n",
        "res = DSIV(Y,X,z,D,family='gaussian', criterion='BIC')\n",
        "res$c1 #Variable indication of the selected in the first step (control variables x).\n",
        "res$cx #Variable indication of selected control variables in the second step.\n",
        "res$cz #Variable indication of selected instrumental variables in the second step.\n",
        "res$c3 #Union of c1 and cx on control variables\n",
        "\n",
        "res$betaD"
      ],
      "metadata": {
        "id": "zbmYhFqPGH8f",
        "colab": {
          "base_uri": "https://localhost:8080/",
          "height": 153
        },
        "outputId": "93aac000-a869-4b7d-fc60-609d33ebb87c"
      },
      "execution_count": 60,
      "outputs": [
        {
          "output_type": "display_data",
          "data": {
            "text/html": [
              "<style>\n",
              ".list-inline {list-style: none; margin:0; padding: 0}\n",
              ".list-inline>li {display: inline-block}\n",
              ".list-inline>li:not(:last-child)::after {content: \"\\00b7\"; padding: 0 .5ex}\n",
              "</style>\n",
              "<ol class=list-inline><li>1</li><li>2</li><li>3</li><li>4</li><li>5</li><li>6</li><li>8</li><li>9</li><li>10</li><li>11</li><li>14</li><li>18</li></ol>\n"
            ],
            "text/markdown": "1. 1\n2. 2\n3. 3\n4. 4\n5. 5\n6. 6\n7. 8\n8. 9\n9. 10\n10. 11\n11. 14\n12. 18\n\n\n",
            "text/latex": "\\begin{enumerate*}\n\\item 1\n\\item 2\n\\item 3\n\\item 4\n\\item 5\n\\item 6\n\\item 8\n\\item 9\n\\item 10\n\\item 11\n\\item 14\n\\item 18\n\\end{enumerate*}\n",
            "text/plain": [
              " [1]  1  2  3  4  5  6  8  9 10 11 14 18"
            ]
          },
          "metadata": {}
        },
        {
          "output_type": "display_data",
          "data": {
            "text/html": [
              "<style>\n",
              ".list-inline {list-style: none; margin:0; padding: 0}\n",
              ".list-inline>li {display: inline-block}\n",
              ".list-inline>li:not(:last-child)::after {content: \"\\00b7\"; padding: 0 .5ex}\n",
              "</style>\n",
              "<ol class=list-inline><li>0</li><li>0</li><li>0</li><li>0</li><li>0</li><li>0</li><li>17</li></ol>\n"
            ],
            "text/markdown": "1. 0\n2. 0\n3. 0\n4. 0\n5. 0\n6. 0\n7. 17\n\n\n",
            "text/latex": "\\begin{enumerate*}\n\\item 0\n\\item 0\n\\item 0\n\\item 0\n\\item 0\n\\item 0\n\\item 17\n\\end{enumerate*}\n",
            "text/plain": [
              "[1]  0  0  0  0  0  0 17"
            ]
          },
          "metadata": {}
        },
        {
          "output_type": "display_data",
          "data": {
            "text/html": [
              "23"
            ],
            "text/markdown": "23",
            "text/latex": "23",
            "text/plain": [
              "[1] 23"
            ]
          },
          "metadata": {}
        },
        {
          "output_type": "display_data",
          "data": {
            "text/html": [
              "<style>\n",
              ".list-inline {list-style: none; margin:0; padding: 0}\n",
              ".list-inline>li {display: inline-block}\n",
              ".list-inline>li:not(:last-child)::after {content: \"\\00b7\"; padding: 0 .5ex}\n",
              "</style>\n",
              "<ol class=list-inline><li>1</li><li>2</li><li>3</li><li>4</li><li>5</li><li>6</li><li>8</li><li>9</li><li>10</li><li>11</li><li>14</li><li>18</li><li>17</li></ol>\n"
            ],
            "text/markdown": "1. 1\n2. 2\n3. 3\n4. 4\n5. 5\n6. 6\n7. 8\n8. 9\n9. 10\n10. 11\n11. 14\n12. 18\n13. 17\n\n\n",
            "text/latex": "\\begin{enumerate*}\n\\item 1\n\\item 2\n\\item 3\n\\item 4\n\\item 5\n\\item 6\n\\item 8\n\\item 9\n\\item 10\n\\item 11\n\\item 14\n\\item 18\n\\item 17\n\\end{enumerate*}\n",
            "text/plain": [
              " [1]  1  2  3  4  5  6  8  9 10 11 14 18 17"
            ]
          },
          "metadata": {}
        },
        {
          "output_type": "display_data",
          "data": {
            "text/html": [
              "<table class=\"dataframe\">\n",
              "<caption>A matrix: 1 × 1 of type dbl</caption>\n",
              "<tbody>\n",
              "\t<tr><td>0.1337203</td></tr>\n",
              "</tbody>\n",
              "</table>\n"
            ],
            "text/markdown": "\nA matrix: 1 × 1 of type dbl\n\n| 0.1337203 |\n\n",
            "text/latex": "A matrix: 1 × 1 of type dbl\n\\begin{tabular}{l}\n\t 0.1337203\\\\\n\\end{tabular}\n",
            "text/plain": [
              "     [,1]     \n",
              "[1,] 0.1337203"
            ]
          },
          "metadata": {}
        }
      ]
    },
    {
      "cell_type": "code",
      "source": [
        "# DS with only multiple IVs\n",
        "res = DSIV(Y,X,Z,D,family='gaussian', criterion='BIC')\n",
        "res$c1 #Variable indication of the selected in the first step (control variables x).\n",
        "res$cx #Variable indication of selected control variables in the second step.\n",
        "res$cz #Variable indication of selected instrumental variables in the second step.\n",
        "res$c3 #Union of c1 and cx on control variables\n",
        "\n",
        "res$betaD"
      ],
      "metadata": {
        "colab": {
          "base_uri": "https://localhost:8080/",
          "height": 153
        },
        "id": "VxqrIDVHZZxe",
        "outputId": "874c926f-5d1e-46bc-c3f2-78f5a14262b8"
      },
      "execution_count": 61,
      "outputs": [
        {
          "output_type": "display_data",
          "data": {
            "text/html": [
              "<style>\n",
              ".list-inline {list-style: none; margin:0; padding: 0}\n",
              ".list-inline>li {display: inline-block}\n",
              ".list-inline>li:not(:last-child)::after {content: \"\\00b7\"; padding: 0 .5ex}\n",
              "</style>\n",
              "<ol class=list-inline><li>1</li><li>2</li><li>3</li><li>4</li><li>5</li><li>6</li><li>8</li><li>9</li><li>10</li><li>11</li><li>14</li><li>18</li></ol>\n"
            ],
            "text/markdown": "1. 1\n2. 2\n3. 3\n4. 4\n5. 5\n6. 6\n7. 8\n8. 9\n9. 10\n10. 11\n11. 14\n12. 18\n\n\n",
            "text/latex": "\\begin{enumerate*}\n\\item 1\n\\item 2\n\\item 3\n\\item 4\n\\item 5\n\\item 6\n\\item 8\n\\item 9\n\\item 10\n\\item 11\n\\item 14\n\\item 18\n\\end{enumerate*}\n",
            "text/plain": [
              " [1]  1  2  3  4  5  6  8  9 10 11 14 18"
            ]
          },
          "metadata": {}
        },
        {
          "output_type": "display_data",
          "data": {
            "text/html": [
              "0"
            ],
            "text/markdown": "0",
            "text/latex": "0",
            "text/plain": [
              "[1] 0"
            ]
          },
          "metadata": {}
        },
        {
          "output_type": "display_data",
          "data": {
            "text/html": [
              "<style>\n",
              ".list-inline {list-style: none; margin:0; padding: 0}\n",
              ".list-inline>li {display: inline-block}\n",
              ".list-inline>li:not(:last-child)::after {content: \"\\00b7\"; padding: 0 .5ex}\n",
              "</style>\n",
              "<ol class=list-inline><li>29</li><li>46</li><li>47</li></ol>\n"
            ],
            "text/markdown": "1. 29\n2. 46\n3. 47\n\n\n",
            "text/latex": "\\begin{enumerate*}\n\\item 29\n\\item 46\n\\item 47\n\\end{enumerate*}\n",
            "text/plain": [
              "[1] 29 46 47"
            ]
          },
          "metadata": {}
        },
        {
          "output_type": "display_data",
          "data": {
            "text/html": [
              "<style>\n",
              ".list-inline {list-style: none; margin:0; padding: 0}\n",
              ".list-inline>li {display: inline-block}\n",
              ".list-inline>li:not(:last-child)::after {content: \"\\00b7\"; padding: 0 .5ex}\n",
              "</style>\n",
              "<ol class=list-inline><li>1</li><li>2</li><li>3</li><li>4</li><li>5</li><li>6</li><li>8</li><li>9</li><li>10</li><li>11</li><li>14</li><li>18</li></ol>\n"
            ],
            "text/markdown": "1. 1\n2. 2\n3. 3\n4. 4\n5. 5\n6. 6\n7. 8\n8. 9\n9. 10\n10. 11\n11. 14\n12. 18\n\n\n",
            "text/latex": "\\begin{enumerate*}\n\\item 1\n\\item 2\n\\item 3\n\\item 4\n\\item 5\n\\item 6\n\\item 8\n\\item 9\n\\item 10\n\\item 11\n\\item 14\n\\item 18\n\\end{enumerate*}\n",
            "text/plain": [
              " [1]  1  2  3  4  5  6  8  9 10 11 14 18"
            ]
          },
          "metadata": {}
        },
        {
          "output_type": "display_data",
          "data": {
            "text/html": [
              "<table class=\"dataframe\">\n",
              "<caption>A matrix: 1 × 1 of type dbl</caption>\n",
              "<tbody>\n",
              "\t<tr><td>0.08692095</td></tr>\n",
              "</tbody>\n",
              "</table>\n"
            ],
            "text/markdown": "\nA matrix: 1 × 1 of type dbl\n\n| 0.08692095 |\n\n",
            "text/latex": "A matrix: 1 × 1 of type dbl\n\\begin{tabular}{l}\n\t 0.08692095\\\\\n\\end{tabular}\n",
            "text/plain": [
              "     [,1]      \n",
              "[1,] 0.08692095"
            ]
          },
          "metadata": {}
        }
      ]
    }
  ],
  "metadata": {
    "colab": {
      "provenance": [],
      "authorship_tag": "ABX9TyPG5+foBefXIPJmx+uhmVP6",
      "include_colab_link": true
    },
    "kernelspec": {
      "display_name": "R",
      "name": "ir"
    },
    "language_info": {
      "name": "R"
    }
  },
  "nbformat": 4,
  "nbformat_minor": 0
}